{
 "cells": [
  {
   "cell_type": "markdown",
   "id": "d8266688",
   "metadata": {},
   "source": [
    "# Classificatie - Logistic Regression\n",
    "\n",
    "## Wat is classificatie?\n",
    "\n",
    "Bij regressie wordt er getracht een manier te zoeken om op basis van een aantal inputs/features een continue waarde te voorspellen.\n",
    "Bij classificatie omvat machine learning technieken waar een model getrained wordt dat op basis van de input bepaalt in welke categorieen je input thuishoort.\n",
    "Een model dat een categorie toekent aan een bepaalde set input-data kan ook een **classifier** genoemd worden.\n",
    "Het classificatieprobleem hoort nog steeds thuis onder **supervised learning** omdat er nog steeds gebruikt gemaakt wordt van een output/label/target om het model te trainen.\n",
    "\n",
    "Enkele voorbeelden van classificatieproblemen zijn\n",
    "* Spam detectie\n",
    "* Medische diagnoses\n",
    "* Kwaliteitscontrole\n",
    "* Geschreven tekst inlezen\n",
    "* ...\n",
    "\n",
    "\n",
    "## Types van classifiers\n",
    "\n",
    "Op basis van hoe de data gelabeled wordt kunnen we drie types van classifiers onderscheiden:\n",
    "* Binaire classifier: Er zijn twee verschillende klasses (goedgekeurd of niet, kwaadaardig vs goedaardig, ...). Lijkt simplistisch maar komt heel veel voor.\n",
    "* Multiclass classifier: Er zijn een willekeurig aantal klassen en er kan er maar 1 toegekend worden. Een voorbeeld hiervan is gezichtsherkenning (elk gezicht kan maar bij 1 persoon horen).\n",
    "* Multilabel classifier: Er zijn een willekeurig aantal klassen en 1 input kan tot meerdere klassen behoren, bijvoorbeeld op een foto kan je meerdere zaken herkennen zoals een boom, wolken, gras, struiken, dieren, ...\n",
    "\n",
    "## Kan hier ook lineaire regressie gebruikt worden?\n",
    "\n",
    "Een eerste mogelijkheid om classificatie uit te voeren is om elke klasse een apart getal te geven en dan lineaire regressie uit te voeren.\n",
    "Hierdoor bekomen we een getal en dan kunnen we kijken naar welk cijfer/klasse er het dichts bij licht.\n",
    "De problemen met deze aanpak kunnen het makkelijkst worden toegelicht doorm iddel van een voorbeeld.\n",
    "Doorheen deze notebook gaat er grotendeels gewerkt worden met [deze dataset](https://www.kaggle.com/elakiricoder/gender-classification-dataset) die 7 zaken gemeten heeft in het gezicht van zowel mannen als vrouwen.\n",
    "Deze dataset gaan we gebruiken om op basis van deze metingen te gaan bepalen of de bijhorende persoon een vrouw of man is."
   ]
  },
  {
   "cell_type": "code",
   "execution_count": 5,
   "id": "4ac429f0",
   "metadata": {},
   "outputs": [],
   "source": [
    "# imports\n",
    "import matplotlib.pyplot as plt\n",
    "import pandas as pd\n",
    "import numpy as np\n",
    "import opendatasets as od\n",
    "\n",
    "import seaborn as sns\n",
    "\n",
    "# sklearn\n",
    "from sklearn.linear_model import LinearRegression, LogisticRegression\n",
    "from sklearn.metrics import classification_report, confusion_matrix\n",
    "from sklearn.model_selection import train_test_split\n",
    "from sklearn.preprocessing import StandardScaler\n",
    "from sklearn.preprocessing import PolynomialFeatures\n",
    "\n",
    "from sklearn.multiclass import OneVsOneClassifier\n",
    "from sklearn.multiclass import OneVsRestClassifier\n",
    "\n",
    "%matplotlib inline"
   ]
  },
  {
   "cell_type": "code",
   "execution_count": null,
   "id": "fa7372ce",
   "metadata": {},
   "outputs": [],
   "source": [
    "od.download(\"https://www.kaggle.com/joshmcadams/oranges-vs-grapefruit\")"
   ]
  },
  {
   "cell_type": "code",
   "execution_count": 2,
   "id": "fb04d0fa",
   "metadata": {},
   "outputs": [],
   "source": [
    "df = pd.read_csv(\".\\\\oranges-vs-grapefruit\\\\citrus.csv\")"
   ]
  },
  {
   "cell_type": "code",
   "execution_count": 3,
   "id": "acc76994",
   "metadata": {},
   "outputs": [
    {
     "data": {
      "text/html": [
       "<div>\n",
       "<style scoped>\n",
       "    .dataframe tbody tr th:only-of-type {\n",
       "        vertical-align: middle;\n",
       "    }\n",
       "\n",
       "    .dataframe tbody tr th {\n",
       "        vertical-align: top;\n",
       "    }\n",
       "\n",
       "    .dataframe thead th {\n",
       "        text-align: right;\n",
       "    }\n",
       "</style>\n",
       "<table border=\"1\" class=\"dataframe\">\n",
       "  <thead>\n",
       "    <tr style=\"text-align: right;\">\n",
       "      <th></th>\n",
       "      <th>name</th>\n",
       "      <th>diameter</th>\n",
       "      <th>weight</th>\n",
       "      <th>red</th>\n",
       "      <th>green</th>\n",
       "      <th>blue</th>\n",
       "      <th>output</th>\n",
       "    </tr>\n",
       "  </thead>\n",
       "  <tbody>\n",
       "    <tr>\n",
       "      <th>0</th>\n",
       "      <td>orange</td>\n",
       "      <td>2.96</td>\n",
       "      <td>86.76</td>\n",
       "      <td>172</td>\n",
       "      <td>85</td>\n",
       "      <td>2</td>\n",
       "      <td>True</td>\n",
       "    </tr>\n",
       "    <tr>\n",
       "      <th>1</th>\n",
       "      <td>orange</td>\n",
       "      <td>3.91</td>\n",
       "      <td>88.05</td>\n",
       "      <td>166</td>\n",
       "      <td>78</td>\n",
       "      <td>3</td>\n",
       "      <td>True</td>\n",
       "    </tr>\n",
       "    <tr>\n",
       "      <th>2</th>\n",
       "      <td>orange</td>\n",
       "      <td>4.42</td>\n",
       "      <td>95.17</td>\n",
       "      <td>156</td>\n",
       "      <td>81</td>\n",
       "      <td>2</td>\n",
       "      <td>True</td>\n",
       "    </tr>\n",
       "    <tr>\n",
       "      <th>3</th>\n",
       "      <td>orange</td>\n",
       "      <td>4.47</td>\n",
       "      <td>95.60</td>\n",
       "      <td>163</td>\n",
       "      <td>81</td>\n",
       "      <td>4</td>\n",
       "      <td>True</td>\n",
       "    </tr>\n",
       "    <tr>\n",
       "      <th>4</th>\n",
       "      <td>orange</td>\n",
       "      <td>4.48</td>\n",
       "      <td>95.76</td>\n",
       "      <td>161</td>\n",
       "      <td>72</td>\n",
       "      <td>9</td>\n",
       "      <td>True</td>\n",
       "    </tr>\n",
       "    <tr>\n",
       "      <th>...</th>\n",
       "      <td>...</td>\n",
       "      <td>...</td>\n",
       "      <td>...</td>\n",
       "      <td>...</td>\n",
       "      <td>...</td>\n",
       "      <td>...</td>\n",
       "      <td>...</td>\n",
       "    </tr>\n",
       "    <tr>\n",
       "      <th>9995</th>\n",
       "      <td>grapefruit</td>\n",
       "      <td>15.35</td>\n",
       "      <td>253.89</td>\n",
       "      <td>149</td>\n",
       "      <td>77</td>\n",
       "      <td>20</td>\n",
       "      <td>False</td>\n",
       "    </tr>\n",
       "    <tr>\n",
       "      <th>9996</th>\n",
       "      <td>grapefruit</td>\n",
       "      <td>15.41</td>\n",
       "      <td>254.67</td>\n",
       "      <td>148</td>\n",
       "      <td>68</td>\n",
       "      <td>7</td>\n",
       "      <td>False</td>\n",
       "    </tr>\n",
       "    <tr>\n",
       "      <th>9997</th>\n",
       "      <td>grapefruit</td>\n",
       "      <td>15.59</td>\n",
       "      <td>256.50</td>\n",
       "      <td>168</td>\n",
       "      <td>82</td>\n",
       "      <td>20</td>\n",
       "      <td>False</td>\n",
       "    </tr>\n",
       "    <tr>\n",
       "      <th>9998</th>\n",
       "      <td>grapefruit</td>\n",
       "      <td>15.92</td>\n",
       "      <td>260.14</td>\n",
       "      <td>142</td>\n",
       "      <td>72</td>\n",
       "      <td>11</td>\n",
       "      <td>False</td>\n",
       "    </tr>\n",
       "    <tr>\n",
       "      <th>9999</th>\n",
       "      <td>grapefruit</td>\n",
       "      <td>16.45</td>\n",
       "      <td>261.51</td>\n",
       "      <td>152</td>\n",
       "      <td>74</td>\n",
       "      <td>2</td>\n",
       "      <td>False</td>\n",
       "    </tr>\n",
       "  </tbody>\n",
       "</table>\n",
       "<p>10000 rows × 7 columns</p>\n",
       "</div>"
      ],
      "text/plain": [
       "            name  diameter  weight  red  green  blue  output\n",
       "0         orange      2.96   86.76  172     85     2    True\n",
       "1         orange      3.91   88.05  166     78     3    True\n",
       "2         orange      4.42   95.17  156     81     2    True\n",
       "3         orange      4.47   95.60  163     81     4    True\n",
       "4         orange      4.48   95.76  161     72     9    True\n",
       "...          ...       ...     ...  ...    ...   ...     ...\n",
       "9995  grapefruit     15.35  253.89  149     77    20   False\n",
       "9996  grapefruit     15.41  254.67  148     68     7   False\n",
       "9997  grapefruit     15.59  256.50  168     82    20   False\n",
       "9998  grapefruit     15.92  260.14  142     72    11   False\n",
       "9999  grapefruit     16.45  261.51  152     74     2   False\n",
       "\n",
       "[10000 rows x 7 columns]"
      ]
     },
     "execution_count": 3,
     "metadata": {},
     "output_type": "execute_result"
    }
   ],
   "source": [
    "df[\"output\"] = df.name == \"orange\"\n",
    "df"
   ]
  },
  {
   "cell_type": "markdown",
   "id": "abdc0693",
   "metadata": {},
   "source": [
    "Waneer we nu een scatterplot tekenen van een kleine datasample en lineaire regressie zouden laten uitvoeren bekomen we onderstaand resultaat.\n",
    "Voor classificatie zouden we beslissen dat wanneer het minder is dan de helft, dat het dan een orange is en anders pompelmoes."
   ]
  },
  {
   "cell_type": "code",
   "execution_count": 6,
   "id": "913584cc",
   "metadata": {},
   "outputs": [
    {
     "name": "stderr",
     "output_type": "stream",
     "text": [
      "C:\\Users\\jens.baetens3\\AppData\\Local\\Temp\\ipykernel_20656\\1297535974.py:6: DeprecationWarning: DataFrameGroupBy.apply operated on the grouping columns. This behavior is deprecated, and in a future version of pandas the grouping columns will be excluded from the operation. Either pass `include_groups=False` to exclude the groupings or explicitly select the grouping columns after groupby to silence this warning.\n",
      "  df_trimmed = df.groupby([\"name\"]).apply(split)\n",
      "C:\\Users\\jens.baetens3\\AppData\\Local\\Programs\\Python\\Python312\\Lib\\site-packages\\sklearn\\base.py:493: UserWarning: X does not have valid feature names, but LinearRegression was fitted with feature names\n",
      "  warnings.warn(\n"
     ]
    },
    {
     "data": {
      "text/plain": [
       "[<matplotlib.lines.Line2D at 0x24c7ca00f80>]"
      ]
     },
     "execution_count": 6,
     "metadata": {},
     "output_type": "execute_result"
    },
    {
     "data": {
      "image/png": "[encoded data removed]",
      "text/plain": [
       "<Figure size 640x480 with 1 Axes>"
      ]
     },
     "metadata": {},
     "output_type": "display_data"
    }
   ],
   "source": [
    "def split(group):\n",
    "    s = group.sort_values(\"weight\")\n",
    "    if group.name == \"orange\":\n",
    "        return s.head()\n",
    "    return s.tail()\n",
    "df_trimmed = df.groupby([\"name\"]).apply(split)\n",
    "\n",
    "model = LinearRegression()\n",
    "model.fit(pd.DataFrame(df_trimmed.diameter), df_trimmed.output)\n",
    "x_test = [4, 16]\n",
    "y_test = model.predict(pd.DataFrame(x_test))\n",
    "\n",
    "sns.scatterplot(x = 'diameter', y ='output', data=df_trimmed, hue='output')\n",
    "plt.plot(x_test, y_test)"
   ]
  },
  {
   "cell_type": "markdown",
   "id": "17820979",
   "metadata": {},
   "source": [
    "Met deze plot zou je kunnen denken dat lineaire regressie kan gebruikt worden.\n",
    "Daarom hebben we eens een andere groep ook geplot en daar zie je dat er toch een aantal problemen zijn met lineaire regressie te gebruiken voor classificatie.\n",
    "* Outliers hebben een grote impact op de trendlijn en dus op de manier dat de classificatie gebeurd\n",
    "* Als de ene klas 0 is en de andere 1, dan kunnen we waarden voorspellen die kleiner zijn dan 0 en groter dan 1. Dit komt niet overeen met kansen dus is het lastiger om te interpreteren. \n",
    "* Als de klassen niet gebalanceerd zijn kan het zijn dat er een grotere bias is voor de ene klassen. Dit wordt ook hieronder. aangetoond.\n",
    "\n",
    "De combinatie van deze problemen zorgt ervoor dat lineaire regressie zelden een goede oplossing is voor classificatieproblemen.\n",
    "Gelukkig bevat het domein van classificatie een hele hoop machine learning technieken die beter bestand zijn tegen deze problemen.\n",
    "In de loop van de cursus gaan we er een aantal van bestuderen, namelijk:\n",
    "* Logistic Regression\n",
    "* SVM\n",
    "* Naive Bayes\n",
    "* Decision Trees\n",
    "* Random Forest"
   ]
  },
  {
   "cell_type": "code",
   "execution_count": 7,
   "id": "b595b787",
   "metadata": {},
   "outputs": [
    {
     "name": "stderr",
     "output_type": "stream",
     "text": [
      "C:\\Users\\jens.baetens3\\AppData\\Local\\Temp\\ipykernel_20656\\1464119369.py:6: DeprecationWarning: DataFrameGroupBy.apply operated on the grouping columns. This behavior is deprecated, and in a future version of pandas the grouping columns will be excluded from the operation. Either pass `include_groups=False` to exclude the groupings or explicitly select the grouping columns after groupby to silence this warning.\n",
      "  df_trimmed = df.groupby([\"name\"]).apply(split_outlier)\n",
      "C:\\Users\\jens.baetens3\\AppData\\Local\\Programs\\Python\\Python312\\Lib\\site-packages\\sklearn\\base.py:493: UserWarning: X does not have valid feature names, but LinearRegression was fitted with feature names\n",
      "  warnings.warn(\n"
     ]
    },
    {
     "data": {
      "text/plain": [
       "[<matplotlib.lines.Line2D at 0x24c7ea9baa0>]"
      ]
     },
     "execution_count": 7,
     "metadata": {},
     "output_type": "execute_result"
    },
    {
     "data": {
      "image/png": "[encoded data removed]",
      "text/plain": [
       "<Figure size 640x480 with 1 Axes>"
      ]
     },
     "metadata": {},
     "output_type": "display_data"
    }
   ],
   "source": [
    "def split_outlier(group):\n",
    "    s = group.sort_values(\"weight\")\n",
    "    if group.name == \"orange\":\n",
    "        return s.head()\n",
    "    return pd.concat([s.tail(1), s[-1000:-995]])\n",
    "df_trimmed = df.groupby([\"name\"]).apply(split_outlier)\n",
    "\n",
    "model = LinearRegression()\n",
    "model.fit(pd.DataFrame(df_trimmed.diameter), df_trimmed.output)\n",
    "x_test = [4, 16]\n",
    "y_test = model.predict(pd.DataFrame(x_test))\n",
    "\n",
    "sns.scatterplot(x = 'diameter', y ='output', data=df_trimmed, hue='output')\n",
    "plt.plot(x_test, y_test)"
   ]
  },
  {
   "cell_type": "code",
   "execution_count": 8,
   "id": "ac877895",
   "metadata": {},
   "outputs": [
    {
     "name": "stderr",
     "output_type": "stream",
     "text": [
      "C:\\Users\\jens.baetens3\\AppData\\Local\\Temp\\ipykernel_20656\\3849129172.py:6: DeprecationWarning: DataFrameGroupBy.apply operated on the grouping columns. This behavior is deprecated, and in a future version of pandas the grouping columns will be excluded from the operation. Either pass `include_groups=False` to exclude the groupings or explicitly select the grouping columns after groupby to silence this warning.\n",
      "  df_trimmed = df.groupby([\"name\"]).apply(split_inbalanced)\n",
      "C:\\Users\\jens.baetens3\\AppData\\Local\\Programs\\Python\\Python312\\Lib\\site-packages\\sklearn\\base.py:493: UserWarning: X does not have valid feature names, but LinearRegression was fitted with feature names\n",
      "  warnings.warn(\n"
     ]
    },
    {
     "data": {
      "text/plain": [
       "[<matplotlib.lines.Line2D at 0x24c7ec68f20>]"
      ]
     },
     "execution_count": 8,
     "metadata": {},
     "output_type": "execute_result"
    },
    {
     "data": {
      "image/png": "[encoded data removed]",
      "text/plain": [
       "<Figure size 640x480 with 1 Axes>"
      ]
     },
     "metadata": {},
     "output_type": "display_data"
    }
   ],
   "source": [
    "def split_inbalanced(group):\n",
    "    s = group.sort_values(\"weight\")\n",
    "    if group.name == \"orange\":\n",
    "        return s.head()\n",
    "    return s.tail(2000)\n",
    "df_trimmed = df.groupby([\"name\"]).apply(split_inbalanced)\n",
    "\n",
    "model = LinearRegression()\n",
    "model.fit(pd.DataFrame(df_trimmed.diameter), df_trimmed.output)\n",
    "x_test = [4, 16]\n",
    "y_test = model.predict(pd.DataFrame(x_test))\n",
    "\n",
    "sns.scatterplot(x = 'diameter', y ='output', data=df_trimmed, hue='output')\n",
    "plt.plot(x_test, y_test)"
   ]
  },
  {
   "cell_type": "code",
   "execution_count": 9,
   "id": "e2f9f7f9-d267-49b9-b2aa-d46c590ee1ab",
   "metadata": {},
   "outputs": [
    {
     "name": "stderr",
     "output_type": "stream",
     "text": [
      "C:\\Users\\jens.baetens3\\AppData\\Local\\Temp\\ipykernel_20656\\1722621674.py:6: DeprecationWarning: DataFrameGroupBy.apply operated on the grouping columns. This behavior is deprecated, and in a future version of pandas the grouping columns will be excluded from the operation. Either pass `include_groups=False` to exclude the groupings or explicitly select the grouping columns after groupby to silence this warning.\n",
      "  df_trimmed = df.groupby([\"name\"]).apply(split_inbalanced)\n",
      "C:\\Users\\jens.baetens3\\AppData\\Local\\Programs\\Python\\Python312\\Lib\\site-packages\\sklearn\\base.py:493: UserWarning: X does not have valid feature names, but LogisticRegression was fitted with feature names\n",
      "  warnings.warn(\n"
     ]
    },
    {
     "data": {
      "text/plain": [
       "[<matplotlib.lines.Line2D at 0x24c7ed2fec0>]"
      ]
     },
     "execution_count": 9,
     "metadata": {},
     "output_type": "execute_result"
    },
    {
     "data": {
      "image/png": "[encoded data removed]",
      "text/plain": [
       "<Figure size 640x480 with 1 Axes>"
      ]
     },
     "metadata": {},
     "output_type": "display_data"
    }
   ],
   "source": [
    "def split_inbalanced(group):\n",
    "    s = group.sort_values(\"weight\")\n",
    "    if group.name == \"orange\":\n",
    "        return s.head()\n",
    "    return s.tail(2000)\n",
    "df_trimmed = df.groupby([\"name\"]).apply(split_inbalanced)\n",
    "\n",
    "################# Hier staat de code voor logistische regressie toe te passen -> identiek dezelfde stappen als daarjuist\n",
    "model = LogisticRegression(penalty=None)\n",
    "model.fit(pd.DataFrame(df_trimmed.diameter), df_trimmed.output)\n",
    "x_test = np.linspace(4,16,1000)\n",
    "y_test = model.predict(pd.DataFrame(x_test))\n",
    "\n",
    "sns.scatterplot(x = 'diameter', y ='output', data=df_trimmed, hue='output')\n",
    "plt.plot(x_test, y_test)"
   ]
  },
  {
   "cell_type": "markdown",
   "id": "2f73b227",
   "metadata": {},
   "source": [
    "## Evaluatie van classificatie\n",
    "\n",
    "In tegenstelling tot lineaire regressie kunnen we niet de afstand tot de gewenste output gebruiken om verschillende classifiers te gaan evalueren.\n",
    "Een mogelijkheid die kan werken is om te kijken naar het percentage van inputs die correct geklassificieerd zijn.\n",
    "Dit wordt ook de accuraatheid of accuracy genoemd.\n",
    "Enkel deze metriek gebruiken heeft echter problemen bij het classificieren van zeldzame events of niet-gebalanceerde data.\n",
    "Een classifier zou bijvoorbeeld voor iets dat in maar 1 van de 1000 gevallen voorkomt kunnen voorspellen dat het nooit voorkomt maar toch een accuraatheid bekomen van 99,9%.\n",
    "\n",
    "Om dit op te vangen kan de zogenoemde [confusionmatrix](https://towardsdatascience.com/confusion-matrix-for-your-multi-class-machine-learning-model-ff9aa3bf7826) bepaald worden.\n",
    "Hierin wordt bijgehouden voor elke klasse hoeveel voorspellingen er correct waren en hoeveel niet.\n",
    "Op basis van deze matrix kunnen de volgende metrieken berekend worden:\n",
    "* Accuraatheid: algemene correctheid $\\frac{TP+TN}{TP+TN+FP+FN}$\n",
    "* Precisie: Accuraatheid binnen positieve voorspellingen $\\frac{TP}{TP+FP}$\n",
    "* Specificiteit: Accuraatheid binnen negatieve samples $\\frac{TN}{TN+FP}$\n",
    "* Recall: Accuraatheid binnen positieve samples $\\frac{TP}{TP+FN}$\n",
    "* F1-score: Combinatie Precisie en Recall: $2\\frac{Precisie*Recall}{Precisie+Recall} = \\frac{2TP}{2TP+FP+FN}$\n",
    "\n",
    "De [.score](https://scikit-learn.org/stable/modules/generated/sklearn.linear_model.LogisticRegression.html#sklearn.linear_model.LogisticRegression.score) functie van het LogisticRegression model berekent de accuraatheid van het model maar de andere metrieken kunnen een veel nauwkeuriger beeld geven over de correcte werken van het model.\n",
    "\n",
    "![matrix](images/confusionMatrix.png)"
   ]
  },
  {
   "cell_type": "markdown",
   "id": "f4c8209e",
   "metadata": {},
   "source": [
    "## Multi-class classification\n",
    "\n",
    "In het bovenstaande voorbeeld zijn de training examples onderverdeeld in twee klassen.\n",
    "In de praktijk komt het ook vaak voor dat er meerdere klasses mogelijk zijn, zoals meerdere types fruit, meerdere soorten hondenrassen, ...\n",
    "Om dit aan te pakken zijn er twee veelgebruikte technieken: One vs All en One vs One.\n",
    "Meer informatie over hoe de LogisticRegression van sklearn kan gebruikt worden voor multi-class problemen op te lossen vind je [hier](https://scikit-learn.org/stable/modules/generated/sklearn.linear_model.LogisticRegression.html).\n",
    "Dan gaat het specifiek om het multi-class probleem.\n",
    "\n",
    "### One vs All\n",
    "\n",
    "Bij deze techniek maak 1 classifier per klasse die je hebt.\n",
    "Deze classifier bepaalt of een input van die bepaalde klasse is of niet.\n",
    "Met deze techniek worden er dus N classifiers getrained.\n",
    "Het voordeel hiervan is dat er minder classifiers nodig zijn dan in de One-Vs-One-techniek waardoor het sneller te trainen is.\n",
    "Het nadeel echter is dat de techniek gevoeliger is aan niet-gebalanceerde data.\n",
    "Deze techniek wordt ook vaak One-Vs-The-Rest genoemd.\n",
    "\n",
    "Een opmerking bij techniek is dat het mogelijk is dat twee of meerdere classifiers aangeven dat een input tot die klasse hoort.\n",
    "In het geval dat er een dergelijk conflict opduikt wordt de klasse die de hoogste kans aangeeft gekozen. \n",
    "\n",
    "![onevsall](images/oneVsAll.png)\n",
    "\n",
    "### One vs One\n",
    "\n",
    "Bij deze techniek maken we een classifier aan voor elke combinatie van 2 klassen aan. \n",
    "Hierdoor zijn er $\\frac{N(N-1)}{2}$ classifiers nodig wat snel kan oplopen in vergelijking met de voorgaande techniek.\n",
    "Op basis van onderstaand voorbeeld werkt deze techniek als volgt:\n",
    "* Eerst wordt er gekeken of de input van de rode of de blauwe klasse is. \n",
    "* Indien het niet van de rode is, wordt er nog gekeken of het blauw of groen is.\n",
    "* Indien het niet de blauwe klasse is, wordt er nog gekeken of het rood of groen is.\n",
    "\n",
    "Hoewel deze methode een grotere trainingstijd nodig heeft door het toegenomen aantal classifiers zijn er wel een aantal voorbeelden:\n",
    "* Minder gevoelig voor niet gebalanceerde data\n",
    "* Geen wazige gebieden waar meerdere classifiers kunnen voorspellen dat het van die klasse is.\n",
    "\n",
    "![onevsall](images/oneVsOne.png)\n",
    "\n",
    "### Multinomial\n",
    "\n",
    "Sommige van de solvers in logistic regression maken het ook mogelijk om rechtstreeks te werken met meerdere klassen. In deze gevallen kan het \"multi-class\" argument op \"multinomial\" gezet worden. Dit is het standaard gedrag tenzij de solver op \"liblinear\" staat."
   ]
  },
  {
   "cell_type": "code",
   "execution_count": null,
   "id": "1884706c",
   "metadata": {},
   "outputs": [],
   "source": [
    "OneVsOneClassifier()\n",
    "OneVsRestClassifier()"
   ]
  },
  {
   "cell_type": "markdown",
   "id": "1f6ea287",
   "metadata": {},
   "source": [
    "### Multiclass evaluatie\n",
    "\n",
    "De confusion matrix in het geval van meerdere klassen kan uitgebreid worden naar onderstaand voorbeeld voor drie klassen. \n",
    "\n",
    "![matrix](images/confusionMatrixMulti.png)\n",
    "\n",
    "Hier is het niet rechtstreeks zichtbaar wat de True Positive, True Negative, ... waarden zijn.\n",
    "We kunnen deze echter eenvoudig berekenen per klasse. \n",
    "Dan kunnen we de besproken metrieken ook per klasse berekenen zodat we onderstaande resultaten bekomen.\n",
    "\n",
    "![matrix](images/metriekenMulti.png)\n",
    "\n",
    "Met behulp van deze matrix kunnen verschillende modellen vergeleken worden.\n",
    "Echter kan er nog iets verder gegaan worden in het combineren van waarden door een globale F1-score te bepalen.\n",
    "Hier zijn meerdere opties voor, namelijk:\n",
    "* Micro F1: Globale F1 op basis van total TP, FN en FP. Merk op dat door geen onderscheid te maken tussen klassen dat $Micro F1 = Precisie = Recall = Accuraatheid$\n",
    "* Macro F1: (Niet gewogen) Gemiddelde van alle F1-scores per klasse.\n",
    "* Weighted F1: Gewogen gemiddelde van de F1-scores per klasse (gewichten = aantal samples van die klasse)"
   ]
  },
  {
   "cell_type": "code",
   "execution_count": null,
   "id": "82563120",
   "metadata": {},
   "outputs": [],
   "source": [
    "# zie voorbeeld hieronder"
   ]
  },
  {
   "cell_type": "markdown",
   "id": "cc7fd150",
   "metadata": {},
   "source": [
    "## Voorbeeld\n",
    "\n",
    "Gebruik nu [deze dataset](https://www.kaggle.com/c/titanic/overview) om onderstaande vragen op te lossen:\n",
    "* Maak een model om op basis van de kolommen te voorspellen of een bepaalde passagier de tocht op de titanic zou overleven\n",
    "* Bereken voor dit model de accuraatheid, recall, precisie en F1-score. \n",
    "* Probeer hogere-orde features te gebruiken om deze waarden te verhogen\n",
    "* Maak een scatter plot voor de leeftijd vs hoeveel er betaald was voor het ticket. Geef ook aan welke datapunten de ramp overleefd hebben en welke niet.\n",
    "* Maak nu een one-vs-all en one-vs-one classifier aan om de klasse van een persoon te voorspellen op basis van de andere gegevens. Gebruik hiervoor niet de testset omdat hier geen data voor beschikbaar is in de testset maar splits je trainingsset op in twee delen.\n",
    "* Schrijf nu een functie om de confusion matrix en de metrieken per klasse en de gecombineerde F1-scores te bepalen. Zoek naar het beste model.\n",
    "* Welke hyperparameters heb je gebruikt tijdens het zoeken naar het model? Hoeveel parameters heeft je uiteindelijke model?"
   ]
  },
  {
   "cell_type": "code",
   "execution_count": null,
   "id": "6ff707ad",
   "metadata": {},
   "outputs": [],
   "source": [
    "od.download(\"https://www.kaggle.com/c/titanic/overview\")"
   ]
  },
  {
   "cell_type": "code",
   "execution_count": 41,
   "id": "45cc67a7-9be6-453e-9fa2-10c1ba26bd4a",
   "metadata": {},
   "outputs": [],
   "source": [
    "from sklearn.preprocessing import OneHotEncoder, MaxAbsScaler\n",
    "from sklearn.impute import SimpleImputer"
   ]
  },
  {
   "cell_type": "code",
   "execution_count": 53,
   "id": "a75de16b",
   "metadata": {},
   "outputs": [
    {
     "name": "stdout",
     "output_type": "stream",
     "text": [
      "(891, 6)\n",
      "(891, 12)\n",
      "[[ 0.  3. 22. ...  0.  1.  0.]\n",
      " [ 1.  1. 38. ...  0.  0.  0.]\n",
      " [ 1.  3. 26. ...  0.  1.  0.]\n",
      " ...\n",
      " [ 0.  3. nan ...  0.  1.  0.]\n",
      " [ 1.  1. 26. ...  0.  0.  0.]\n",
      " [ 0.  3. 32. ...  1.  0.  0.]]\n",
      "[[0.33333333 0.725      0.         ... 0.         0.         0.        ]\n",
      " [1.         0.3        0.25       ... 0.         1.         0.        ]\n",
      " [1.         0.05       0.         ... 0.         1.         0.        ]\n",
      " ...\n",
      " [0.33333333 0.175      0.125      ... 0.         1.         0.        ]\n",
      " [1.         0.3375     0.         ... 0.         1.         0.        ]\n",
      " [0.66666667 0.275      0.125      ... 0.         0.         0.        ]]\n"
     ]
    }
   ],
   "source": [
    "df_train = pd.read_csv('./titanic/train.csv')\n",
    "df_test = pd.read_csv('./titanic/test.csv') # identiek aan train maar bevat geen survived kolom -> kan dus niet gebruikt worden voor evaluatie zonder op te laden naar kaggle\n",
    "\n",
    "# preprocessing gedeelte\n",
    "df_train.drop(['PassengerId', 'Name', 'Ticket', 'Cabin'], inplace=True, axis=1)\n",
    "\n",
    "enc = OneHotEncoder(sparse_output =False)\n",
    "encoded_cols = enc.fit_transform(df_train[['Sex', 'Embarked']])\n",
    "\n",
    "df_train.drop(['Sex', 'Embarked'], inplace=True, axis=1)\n",
    "\n",
    "#df_train.fillna(0) # Meeste ML-technieken kunnen niet om met null waarden dus zorg dat ze weg zijn!\n",
    "\n",
    "Xy = df_train.values\n",
    "print(Xy.shape)\n",
    "Xy = np.concatenate((Xy, encoded_cols), axis=1)\n",
    "print(Xy.shape)\n",
    "print(Xy)\n",
    "\n",
    "# splits in x en y en train-testdata\n",
    "X = Xy[:,1:]\n",
    "y = Xy[:, 0]\n",
    "\n",
    "X_train, X_test, y_train, y_test = train_test_split(X, y, test_size=0.2) # 0.2 is een goede standaardkeuze -> als je weinig data hebt kan het nodig zijn om dit iets kleiner (kan beter trainen op meer data) of groter te maken (kan je het beter evalueren)\n",
    "\n",
    "# preprocessen -> scalen van numerieke waarden\n",
    "scaler = MaxAbsScaler() # die gaat eigenlijk elke waarde delen door de grootste absolute waarde -> -5 0 3 --> gaat hij alles delen door 5 -> alles gaat in de range (-1, 1)\n",
    "X_train = scaler.fit_transform(X_train)\n",
    "X_test = scaler.transform(X_test) # dus ter herhaling -> hier geen fit doen!\n",
    "\n",
    "imputer = SimpleImputer(fill_value=0) # heel wat mogelijkheid om ook bvb gemiddelden en dergelijke te doen\n",
    "X_train = imputer.fit_transform(X_train)\n",
    "X_test = imputer.transform(X_test)\n",
    "\n",
    "print(X_train)"
   ]
  },
  {
   "cell_type": "code",
   "execution_count": 54,
   "id": "59db0d6d",
   "metadata": {},
   "outputs": [],
   "source": [
    "# train het model\n",
    "model = LogisticRegression()\n",
    "model.fit(X_train, y_train)\n",
    "predictions = model.predict(X_test)\n"
   ]
  },
  {
   "cell_type": "code",
   "execution_count": 67,
   "id": "c77580af",
   "metadata": {},
   "outputs": [
    {
     "name": "stdout",
     "output_type": "stream",
     "text": [
      "Accuracy is 0.8156424581005587\n",
      "Precision is 0.7794117647058824\n",
      "Recall is 0.7464788732394366\n",
      "F1-score is 0.762589928057554\n",
      "[[93 15]\n",
      " [18 53]]\n",
      "              precision    recall  f1-score   support\n",
      "\n",
      "         0.0       0.84      0.86      0.85       108\n",
      "         1.0       0.78      0.75      0.76        71\n",
      "\n",
      "    accuracy                           0.82       179\n",
      "   macro avg       0.81      0.80      0.81       179\n",
      "weighted avg       0.81      0.82      0.81       179\n",
      "\n",
      "{'0.0': {'precision': 0.8378378378378378, 'recall': 0.8611111111111112, 'f1-score': 0.8493150684931506, 'support': 108.0}, '1.0': {'precision': 0.7794117647058824, 'recall': 0.7464788732394366, 'f1-score': 0.762589928057554, 'support': 71.0}, 'accuracy': 0.8156424581005587, 'macro avg': {'precision': 0.8086248012718601, 'recall': 0.8037949921752738, 'f1-score': 0.8059524982753523, 'support': 179.0}, 'weighted avg': {'precision': 0.8146632501709729, 'recall': 0.8156424581005587, 'f1-score': 0.8149157111136681, 'support': 179.0}}\n",
      "0.8086248012718601\n"
     ]
    }
   ],
   "source": [
    "# evalueer het model\n",
    "from sklearn.metrics import confusion_matrix, precision_score, recall_score, f1_score, classification_report\n",
    "\n",
    "print('Accuracy is', model.score(X_test, y_test))\n",
    "print('Precision is', precision_score(y_test, predictions))\n",
    "print('Recall is', recall_score(y_test, predictions))\n",
    "print('F1-score is', f1_score(y_test, predictions))\n",
    "\n",
    "print(confusion_matrix(y_test, predictions))\n",
    "\n",
    "print(classification_report(y_test, predictions)) # dit is een string\n",
    "rapport = classification_report(y_test, predictions, output_dict=True)\n",
    "print(rapport) # als je met code het rapport wil gebruiken is dit veel handiger\n",
    "print(rapport['macro avg']['precision'])"
   ]
  },
  {
   "cell_type": "code",
   "execution_count": 72,
   "id": "44043b59-623d-4b36-bb19-12ec05548f9b",
   "metadata": {},
   "outputs": [
    {
     "data": {
      "text/plain": [
       "0.8491620111731844"
      ]
     },
     "execution_count": 72,
     "metadata": {},
     "output_type": "execute_result"
    }
   ],
   "source": [
    "hogere_orde = PolynomialFeatures(3)\n",
    "X_train2 = hogere_orde.fit_transform(X_train)\n",
    "X_test2 = hogere_orde.fit_transform(X_test)\n",
    "\n",
    "model2 = LogisticRegression()\n",
    "model2.fit(X_train2, y_train)\n",
    "predictions2 = model2.predict(X_test2)\n",
    "model2.score(X_test2, y_test)"
   ]
  },
  {
   "cell_type": "code",
   "execution_count": null,
   "id": "6fdf5f27",
   "metadata": {},
   "outputs": [],
   "source": []
  },
  {
   "cell_type": "code",
   "execution_count": null,
   "id": "752ed94a",
   "metadata": {
    "scrolled": true
   },
   "outputs": [],
   "source": []
  }
 ],
 "metadata": {
  "kernelspec": {
   "display_name": "Python 3 (ipykernel)",
   "language": "python",
   "name": "python3"
  },
  "language_info": {
   "codemirror_mode": {
    "name": "ipython",
    "version": 3
   },
   "file_extension": ".py",
   "mimetype": "text/x-python",
   "name": "python",
   "nbconvert_exporter": "python",
   "pygments_lexer": "ipython3",
   "version": "3.12.5"
  }
 },
 "nbformat": 4,
 "nbformat_minor": 5
}
