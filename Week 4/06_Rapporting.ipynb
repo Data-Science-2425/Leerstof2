{
 "cells": [
  {
   "cell_type": "markdown",
   "id": "76100ba0",
   "metadata": {},
   "source": [
    "# Data Visualisation\n",
    "\n",
    "Heel veel informatie over hoe je visualisatie kan doen met behulp van matplotlib kan je vinden op deze website: https://www.python-graph-gallery.com/.\n",
    "Specifiek voor pandas vind je ook op [deze](https://pandas.pydata.org/pandas-docs/stable/visualization.html) pagina veel informatie."
   ]
  },
  {
   "cell_type": "code",
   "execution_count": 2,
   "id": "56a2c1d1",
   "metadata": {},
   "outputs": [],
   "source": [
    "# imports\n",
    "import pandas as pd\n",
    "import numpy as np\n",
    "import matplotlib.pyplot as plt\n",
    "import seaborn as sns"
   ]
  },
  {
   "cell_type": "markdown",
   "id": "a4fb76ba",
   "metadata": {},
   "source": [
    "## Relative to reference point\n",
    "\n",
    "### Bar diverging\n",
    "\n",
    "Maak deze figuur zo goed mogelijk na:\n",
    "\n",
    "![bar diverging plot](images/plot1.png)"
   ]
  },
  {
   "cell_type": "markdown",
   "id": "efe4dd93",
   "metadata": {},
   "source": [
    "\n",
    "Tips:\n",
    "* Plotting function hlines\n",
    "* Kleuren van de balken kan je instellen met het color argument\n",
    "* De axes van een plot kan je ook opvragen met de gca() functie.\n",
    "* De lijnen in de plot (de grid) kan je aanpassen met de plt.grid() functie\n",
    "* De kader van het assenstelsel aanpassen kan je doen door de spines van het assenstelsel aan te passen."
   ]
  },
  {
   "cell_type": "code",
   "execution_count": null,
   "id": "6e2e06ac",
   "metadata": {},
   "outputs": [],
   "source": [
    "# aanmaken van data\n",
    "df = pd.DataFrame({\"data\":np.random.random(size=20)*30+5}) # create random dataframe between 5 and 35\n",
    "df.sort_values(\"data\", inplace = True) # sorteer by value\n",
    "df.reset_index(inplace=True) # reset index to ensure index not sorted\n",
    "display(df)\n",
    "\n",
    "plt.figure(figsize=(7,5), dpi=80)    # dots per inch geeft info over de resolutie\n"
   ]
  },
  {
   "cell_type": "markdown",
   "id": "4f7e4244",
   "metadata": {},
   "source": [
    "### Bar diverging stacked\n",
    "\n",
    "Je kan ook verschillende balken op dezelfde figuur plaatsen.\n",
    "Maak nu door gebruik te maken van de barh functie onderstaande figuur zo goed mogelijk na.\n",
    "\n",
    "![Oef2](images/plot2.png)"
   ]
  },
  {
   "cell_type": "code",
   "execution_count": null,
   "id": "f94b7c13",
   "metadata": {},
   "outputs": [],
   "source": [
    "df = pd.DataFrame({\"positive\":np.random.randint(0,100, size=20),\n",
    "                  \"neutral\": np.random.randint(0,50, size=20),\n",
    "                  \"negative\": np.random.randint(0,50, size=20)}) # create random dataframe\n",
    "df"
   ]
  },
  {
   "cell_type": "markdown",
   "id": "5c6711a9",
   "metadata": {},
   "source": [
    "### Line Surplus Deficit Filled\n",
    "\n",
    "Ook is het mogelijk om gebieden op te vullen met de **fill_between functie**.\n",
    "\n",
    "Maak door gebruik te maken van bovenstaande functie, onderstaande figuur zo goed mogelijk na.\n",
    "\n",
    "![plot3](images/plot3.png)\n",
    "\n",
    "Tips: \n",
    "* subplots\n",
    "* fill_between"
   ]
  },
  {
   "cell_type": "code",
   "execution_count": null,
   "id": "79111f46",
   "metadata": {},
   "outputs": [],
   "source": [
    "df = pd.DataFrame({\"x\": np.linspace(0, 12, 100)})\n",
    "df[\"sin\"] = np.sin(df.x)\n",
    "df[\"cos\"] = np.cos(df.x)\n",
    "df"
   ]
  },
  {
   "cell_type": "markdown",
   "id": "2f51b6a2",
   "metadata": {},
   "source": [
    "## Verband tussen features\n",
    "\n",
    "### Scatter plot\n",
    "\n",
    "Reeds veel gedaan dus ga ik hier niet opnieuw tonen\n",
    "\n",
    "### Line Column Plot\n",
    "\n",
    "Nu gaan we kijken om te werken met twee assenstelsels.\n",
    "Dit kan je doen door gebruik te maken van de **twinx()** functie. Zo krijg je een links en rechtse y-as die elk een aparte schaal kunnen hebben.\n",
    "Maak hiervoor onderstaande figuur zo goed mogelijk na.\n",
    "\n",
    "![plot4 - line column plot](images/plot4.png)"
   ]
  },
  {
   "cell_type": "code",
   "execution_count": null,
   "id": "97fce81e",
   "metadata": {},
   "outputs": [],
   "source": [
    "df = pd.DataFrame({\"x\": np.linspace(1, 100, 10)})\n",
    "df[\"square\"] = df.x * df.x\n",
    "df[\"sqrt\"] = np.sqrt(df.x)\n",
    "df\n",
    "\n",
    "plt.figure()"
   ]
  },
  {
   "cell_type": "markdown",
   "id": "dc0dfa1e",
   "metadata": {},
   "source": [
    "### Connected scatter plot\n",
    "\n",
    "Om een geconnecteede scatter plot te maken zijn er twee paden die je kan volgen.\n",
    "* Ofwel zorg je ervoor dat je zowel een line plot als een scatter plot tekend waardoor de punten aangegeven worden. Let op dat hierbij de data in de juiste volgorde moet staan\n",
    "* Ofwel gebruik je markers in de line-plot om de datapunten aan te geven. Zie [hier](https://matplotlib.org/stable/api/markers_api.html) voor meer info\n",
    "\n",
    "Kies een methode en maak onderstaande figuur zo goed mogelijk na\n",
    "\n",
    "![connected scatter plot](images/plot5.png)"
   ]
  },
  {
   "cell_type": "code",
   "execution_count": null,
   "id": "aba31c91",
   "metadata": {},
   "outputs": [],
   "source": [
    "df = pd.DataFrame({\"x\": np.arange(0, 20)})\n",
    "df[\"y\"] = np.random.random(size=20) * 2 -1\n",
    "df\n",
    "\n",
    "plt.figure()"
   ]
  },
  {
   "cell_type": "markdown",
   "id": "41ed60c4",
   "metadata": {},
   "source": [
    "### Bubble plot\n",
    "\n",
    "Een bubble plot kan je maken door de **size** parameter van een scatter plot te laten afhangen van een aparte rij.\n",
    "\n",
    "Oefen dit door deze figuur zo goed mogelijk na te maken:\n",
    "\n",
    "![bubble plot](images/plot6.png)"
   ]
  },
  {
   "cell_type": "code",
   "execution_count": null,
   "id": "ca654836",
   "metadata": {},
   "outputs": [],
   "source": [
    "df = pd.DataFrame({\"x\": np.arange(0, 20)})\n",
    "df[\"y\"] = np.random.random(size=20) * 2 -1\n",
    "df[\"size\"] = np.random.random(size=20) * 1000\n",
    "df\n"
   ]
  },
  {
   "cell_type": "markdown",
   "id": "21f02966",
   "metadata": {},
   "source": [
    "### XY - heatmap\n",
    "\n",
    "Dit hebben we ook reeds gedaan bij de correlatie matrices, die ga ik nu niet overdoen. Binnen maptlotlib kan dit met matshow. Seaborn heeft een alternatief dat [heatmap](https://seaborn.pydata.org/generated/seaborn.heatmap.html) noemt.\n",
    "\n",
    "## Plots voor verbanden met de tijd\n",
    "\n",
    "### (Stacked) Area plot\n",
    "\n",
    "Met behulp van de stackplot functie kan je verschillende plots boven elkaar leggen.\n",
    "Oefen dit door onderstaande figuur zo goed mogelijk na te bouwen\n",
    "\n",
    "![plot 7](images/plot7.png)"
   ]
  },
  {
   "cell_type": "code",
   "execution_count": null,
   "id": "3a595530",
   "metadata": {},
   "outputs": [],
   "source": [
    "df = pd.DataFrame({\"x\": np.arange(0, 20)})\n",
    "df[\"y1\"] = np.random.randint(10, 20, size=20)\n",
    "df[\"y2\"] = np.random.randint(5, 40, size=20)\n",
    "df[\"y3\"] = np.random.randint(0, 10, size=20)\n",
    "df"
   ]
  },
  {
   "cell_type": "markdown",
   "id": "90d78a3f",
   "metadata": {},
   "source": [
    "### Fan plot\n",
    "\n",
    "Een andere belangrijke plot is een fan plot. Deze kan bijvoorbeeld gebruikt worden om fouten op voorspellingen aan te geven.\n",
    "Hiervoor moet er vanaf een bepaald punt (het punt waarop de voorspellingen beginnen) een area opgevuld worden om de mogelijke fout aan te geven.\n",
    "\n",
    "Om dit in te oefenen, maak onderstaande figuur na\n",
    "De meeste functies hiervoor heb je reeds gezien. Enkel voor de grijze zone na te bootsen kan je gebruik maken van axvspan()\n",
    "\n",
    "![plot 8](images/plot8.png)"
   ]
  },
  {
   "cell_type": "code",
   "execution_count": null,
   "id": "0c42425d",
   "metadata": {},
   "outputs": [],
   "source": [
    "df = pd.DataFrame({\"x\": np.arange(0, 50)})\n",
    "df[\"y\"] = np.random.randint(10, 100, size=50)\n",
    "df_errors = df.tail(10).copy()\n",
    "df_errors[\"error_1\"] = 50 * 0.2 * (df_errors.x-df_errors.x.min()) / len(df_errors)\n",
    "df_errors[\"error_2\"] = 50 * 0.5 * (df_errors.x-df_errors.x.min()) / len(df_errors)\n",
    "df_errors[\"error_3\"] = 50 * 0.7 * (df_errors.x-df_errors.x.min()) / len(df_errors)\n",
    "df"
   ]
  },
  {
   "cell_type": "markdown",
   "id": "fe75cb4f",
   "metadata": {},
   "source": [
    "### Circles Timeline Plot\n",
    "\n",
    "Dit kan gegenereerd worden door middel van een scatter plot waar de x-as de tijd is (of een index), de y waarde is een constante (bijvoorbeeld 0) en de bubble size is dan de bijhorende waarde\n",
    "\n",
    "Probeer dit zelf eens uit met onderstaande data om deze figuur zo goed mogelijk na te maken\n",
    "\n",
    "![plot 9](images/plot9.png)"
   ]
  },
  {
   "cell_type": "code",
   "execution_count": null,
   "id": "92b0d622",
   "metadata": {},
   "outputs": [],
   "source": []
  },
  {
   "cell_type": "markdown",
   "id": "0ecd2a83",
   "metadata": {},
   "source": [
    "## Sorteren / Volgorde van data\n",
    "\n",
    "### Lollipop chart\n",
    "\n",
    "Hiervoor kan je de stem functie gebruiken. Meer informatie over deze functie kan je vinden op [deze website](https://www.python-graph-gallery.com/lollipop-plot/)\n",
    "Deze kan je inoefenen door onderstaande figuur na te bootsen\n",
    "\n",
    "![plot 10](images/plot10.png)"
   ]
  },
  {
   "cell_type": "code",
   "execution_count": null,
   "id": "52d5146d",
   "metadata": {},
   "outputs": [],
   "source": []
  }
 ],
 "metadata": {
  "kernelspec": {
   "display_name": "Python 3",
   "language": "python",
   "name": "python3"
  },
  "language_info": {
   "codemirror_mode": {
    "name": "ipython",
    "version": 3
   },
   "file_extension": ".py",
   "mimetype": "text/x-python",
   "name": "python",
   "nbconvert_exporter": "python",
   "pygments_lexer": "ipython3",
   "version": "3.12.5"
  }
 },
 "nbformat": 4,
 "nbformat_minor": 5
}
