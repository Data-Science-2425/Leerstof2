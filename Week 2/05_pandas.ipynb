{
 "cells": [
  {
   "cell_type": "markdown",
   "metadata": {},
   "source": [
    "# Pandas\n",
    "\n",
    "Indien pandas nog niet geinstalleerd is, voer onderstaande codecell uit."
   ]
  },
  {
   "cell_type": "code",
   "execution_count": null,
   "metadata": {},
   "outputs": [],
   "source": [
    "!pip install pandas"
   ]
  },
  {
   "cell_type": "markdown",
   "metadata": {},
   "source": [
    "\n",
    "De twee belangrijkste gegevensstructuren in Pandas zijn de Series en de DataFrame.\n",
    "\n",
    "Een Series in Pandas is een één-dimensionale array-achtige structuur die een lijst van waarden bevat, samen met een index die aan elke waarde is gekoppeld. Je kunt een Series maken vanuit een Python-lijst of een NumPy-array. Bijvoorbeeld:"
   ]
  },
  {
   "cell_type": "code",
   "execution_count": null,
   "metadata": {},
   "outputs": [],
   "source": [
    "import pandas as pd\n",
    "\n",
    "s = pd.Series([1, 2, 3, 4, 5])"
   ]
  },
  {
   "cell_type": "markdown",
   "metadata": {},
   "source": [
    "Hier wordt een Series s gemaakt met de waarden 1 tot 5. Standaard wordt een numerieke index van 0 tot 4 gebruikt, maar je kunt ook een aangepaste index specificeren:"
   ]
  },
  {
   "cell_type": "code",
   "execution_count": null,
   "metadata": {},
   "outputs": [],
   "source": [
    "s = pd.Series([1, 2, 3, 4, 5], index=['a', 'b', 'c', 'd', 'e'])"
   ]
  },
  {
   "cell_type": "markdown",
   "metadata": {},
   "source": [
    "In dit voorbeeld heeft elke waarde in de Series nu een corresponderende letterindex in plaats van een numerieke index. Dit maakt Series krachtig omdat je kunt werken met labels in plaats van alleen met posities.\n",
    "\n",
    "De DataFrame is de meest gebruikte structuur in Pandas. Een DataFrame is een tweedimensionale tabel die lijkt op een spreadsheet of een SQL-tabel. Het bestaat uit rijen en kolommen, waarbij elke kolom een Series is. Een DataFrame kan worden gemaakt uit verschillende bronnen, zoals een dictionary van lijsten of een NumPy-array. Bijvoorbeeld:"
   ]
  },
  {
   "cell_type": "code",
   "execution_count": null,
   "metadata": {},
   "outputs": [],
   "source": [
    "data = {'Naam': ['Alice', 'Bob', 'Charlie'], 'Leeftijd': [25, 30, 35]}\n",
    "df = pd.DataFrame(data)"
   ]
  },
  {
   "cell_type": "markdown",
   "metadata": {},
   "source": [
    "In dit voorbeeld wordt een DataFrame df gemaakt met twee kolommen: Naam en Leeftijd. De waarden van deze kolommen zijn afkomstig uit de dictionary data. De DataFrame-structuur biedt tal van functies voor het manipuleren, selecteren en bewerken van gegevens. Bijvoorbeeld, je kunt toegang krijgen tot een specifieke kolom met:"
   ]
  },
  {
   "cell_type": "code",
   "execution_count": null,
   "metadata": {},
   "outputs": [],
   "source": [
    "namen = df['Naam']"
   ]
  },
  {
   "cell_type": "markdown",
   "metadata": {},
   "source": [
    "Dit retourneert een Series met de waarden in de kolom Naam. Je kunt ook rijen selecteren op basis van hun positie met de .iloc[]-methode of op basis van hun index met .loc[].\n",
    "\n",
    "Een ander krachtig aspect van Pandas is de mogelijkheid om bewerkingen uit te voeren op kolommen. Bijvoorbeeld, je kunt een nieuwe kolom toevoegen aan een DataFrame door een wiskundige operatie toe te passen op bestaande kolommen:"
   ]
  },
  {
   "cell_type": "code",
   "execution_count": null,
   "metadata": {},
   "outputs": [],
   "source": [
    "df['Leeftijd_plus_5'] = df['Leeftijd'] + 5"
   ]
  },
  {
   "cell_type": "markdown",
   "metadata": {},
   "source": [
    "Hier wordt een nieuwe kolom toegevoegd aan df genaamd Leeftijd_plus_5, die de waarden in de kolom Leeftijd verhoogt met 5."
   ]
  }
 ],
 "metadata": {
  "kernelspec": {
   "display_name": "Python 3",
   "language": "python",
   "name": "python3"
  },
  "language_info": {
   "codemirror_mode": {
    "name": "ipython",
    "version": 3
   },
   "file_extension": ".py",
   "mimetype": "text/x-python",
   "name": "python",
   "nbconvert_exporter": "python",
   "pygments_lexer": "ipython3",
   "version": "3.12.5"
  }
 },
 "nbformat": 4,
 "nbformat_minor": 2
}
