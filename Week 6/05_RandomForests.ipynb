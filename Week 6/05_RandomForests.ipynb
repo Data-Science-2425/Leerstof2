{
 "cells": [
  {
   "cell_type": "markdown",
   "id": "01f50aaa",
   "metadata": {},
   "source": [
    "# Random Forests\n",
    "\n",
    "Een andere manier om overfitting van decision trees tegen te gaan en het resultaat accurater te maken is door gebruik te maken van Random Forests.\n",
    "Deze techniek gaat meerdere decision trees trainen en door gebruik van majority voting alle trees laten stemmen over het uiteindelijke resultaat.\n",
    "Buiten het vermijden van problemen door overfitting kan deze techniek ook veel accurater zijn.\n",
    "Algemeen gezien kan men zelfs er van uitgaan dat hoe meer trees er gebruikt worden hoe accurater het forest wordt.\n",
    "\n",
    "Omdat we meerdere bomen gebruiken willen we ook meer variatie in de modellen die deze bomen leren.\n",
    "Daarom wordt elke boom maar op een willekeurig deel van de data getrained (vandaar de term random).\n",
    "\n",
    "Buiten de hyperparameters die voor de decision trees gebruikt kunnen worden zijn er nog een aantal extra zaken die de performantie van het gecombineerde forest sterk kan verbeteren, namelijk:\n",
    "* n_estimators: Het aantal bomen dat gebruikt wordt (Hoe meer bomen hoe accurater maar ook hoe meer rekenkracht)\n",
    "* max_features: Aantal features per boom (int, float, sqrt / auto, log2, default). Hoe meer features, hoe meer kans op overfitting\n",
    "* Bootstrap aggregating of bagging: Dit houdt in dat maar een deel van de observaties gebruikt worden om elke boom te trainen. Zo kan er meer variatie geintroduceerd worden.\n",
    "* oob_score: Out-of-Bag score: Het trainen van een decision tree gebruikt niet alle trainingsdata dus kan je de niet-gebruikte data gebruiken als validatieset voor die boom. Meer informatie vind je [hier](https://towardsdatascience.com/what-is-out-of-bag-oob-score-in-random-forest-a7fa23d710)\n",
    "\n",
    "Waarom zou je een Random Forest Classifier verkiezen boven een classifier gebaseerd op Logistic Regression of SVM?\n",
    "Random forest classifiers hebben de volgende voordelen:\n",
    "* Ze zijn zeer goed in te stellen\n",
    "* Ze vragen niet veel rekenkracht\n",
    "* Hun accuraatheid is gelijk aan dat van SVM of zelfs beter\n",
    "* Het voordeel van decision trees dat er kan geredeneerd worden op welke features belangrijk zijn blijft behouden. \n",
    "\n",
    "Net zoals voor de vorige classifiers kan ook deze techniek gebruikt worden voor regressie.\n",
    "In dit geval moet er gebruik gemaakt worden van het gemiddelde in plaats van majority voting."
   ]
  },
  {
   "cell_type": "code",
   "execution_count": null,
   "id": "daa7cc31",
   "metadata": {},
   "outputs": [],
   "source": []
  },
  {
   "cell_type": "code",
   "execution_count": null,
   "id": "c00ee9dd",
   "metadata": {},
   "outputs": [],
   "source": []
  }
 ],
 "metadata": {
  "kernelspec": {
   "display_name": "Python 3",
   "language": "python",
   "name": "python3"
  },
  "language_info": {
   "codemirror_mode": {
    "name": "ipython",
    "version": 3
   },
   "file_extension": ".py",
   "mimetype": "text/x-python",
   "name": "python",
   "nbconvert_exporter": "python",
   "pygments_lexer": "ipython3",
   "version": "3.8.8"
  }
 },
 "nbformat": 4,
 "nbformat_minor": 5
}
