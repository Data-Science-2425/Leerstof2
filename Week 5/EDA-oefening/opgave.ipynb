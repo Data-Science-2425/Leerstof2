{
 "cells": [
  {
   "attachments": {},
   "cell_type": "markdown",
   "id": "73180192",
   "metadata": {},
   "source": [
    "# Opgave eerste type B evaluatie over verkiezingsresultaten\n",
    "\n",
    "In de loop van de type-B evaluaties gaan we proberen om de verkiezingsresultaten te voorspellen. In deze notebook gaan we vooral werken met een dataset van de resultaten maar we gaan er ook reeds wat andere gegevens bij betrekken.\n",
    "\n",
    "Deze opgave bestaat uit de volgende stappen:\n",
    "- Inlezen van twee beschikbare datasets\n",
    "- Bestudeer de datasets apart door een aantal vragen te beantwoorden\n",
    "- Vorm een samengesteld dataframe\n",
    "- Voer exploratory data analysis uit"
   ]
  },
  {
   "cell_type": "markdown",
   "id": "6e24024d",
   "metadata": {},
   "source": [
    "\n",
    "## Inlezen data\n",
    "\n",
    "In deze opgave wordt er gewerkt met twee beschikbare datasets.\n",
    "* De eerste dataset is reeds aanwezig in de excel file in deze repository. Deze bevat de verkiezingsresultaten van de Vlaamse gemeenten.\n",
    "* De tweede dataset waarmee gewerkt wordt vind je op [statbel](https://statbel.fgov.be/en/open-data/population-place-residence-nationality-marital-status-age-and-sex-8)\n",
    "\n",
    "Voer nu de volgende stappen uit om de data in te lezen:\n",
    "* Laad de eerste dataset nu in door hem via pandas in te laden in een variabele df_results. Opgelet: bekijk eerst via excel of er rijen moeten overgeslaan worden en of er een headerrij aanwezig is.\n",
    "* Download de zipfile op de link van de tweede dataset met de opendatasets package\n",
    "* Unzip het bestand\n",
    "* Laad de csv in het .txt bestand in met pandas in een dataframe met de naam df_population\n",
    "* Print van elk dataframe de eerste 10 rijen uit om een idee te krijgen van de beschikbare data. "
   ]
  },
  {
   "cell_type": "code",
   "execution_count": null,
   "id": "763140e4",
   "metadata": {},
   "outputs": [],
   "source": []
  },
  {
   "attachments": {},
   "cell_type": "markdown",
   "id": "126aba68",
   "metadata": {},
   "source": [
    "## Eerste inzichten\n",
    "\n",
    "Voordat je begint met de dataframes te manipuleren en te bewerken om de gegevens samen te voegen, ga je eerst op zoek naar een antwoord op de volgende vragen.\n",
    "Deze vragen dienen om je een beter inzicht te geven in de beschikbare data.\n",
    "\n",
    "Schrijf hieronder per vraag de nodige code om de vraag te beantwoorden en vergeet ook niet steeds zeker de vraag tekstueel te beantwoorden.\n",
    "\n",
    "* Vraag 1: Welke partijen hebben meegedaan aan de verkiezingen in minstens de helft van de gemeenten? Wat is het aantal gemiddelde partijen per gemeente? Welke 5 partijen hebben in de meeste gemeenten deelgenomen?\n",
    "\n",
    "**Antwoord:**"
   ]
  },
  {
   "cell_type": "code",
   "execution_count": null,
   "id": "0a2e5668",
   "metadata": {},
   "outputs": [],
   "source": [
    "# Vraag 1"
   ]
  },
  {
   "cell_type": "markdown",
   "id": "725d87d7",
   "metadata": {},
   "source": [
    "* Vraag 2: Zijn er fouten aanwezig in de dataset van de verkiezingsresultaten? Dit wil zeggen: komt het aantal blanco stemmen + lijst-stemmen (zowel cat 1 als cat 2) overeen met het totaal aantal kiesbiljetten. Wat is de top 3 van de gemeentes met het grootste percentage mensen dat niet is komen opdagen (deze personen hebben niet gestemd en niet blanco gestemd)? Let op dat je dit per gemeente moet bekijken en dat de verkiezingsresultaten per partij per gemeente opgelijst zijn.\n",
    "\n",
    "**Antwoord:**"
   ]
  },
  {
   "cell_type": "code",
   "execution_count": null,
   "id": "7ae4dbed",
   "metadata": {},
   "outputs": [],
   "source": [
    "# Vraag 2"
   ]
  },
  {
   "cell_type": "markdown",
   "id": "7a66ec5b",
   "metadata": {},
   "source": [
    "* Vraag 3: Maak een histogram van het aantal kandidaten per lijst. Doe dit ook eens voor het aantal kandidaten van de lijst die gewonnen heeft in elke gemeente. Is er een significant verschil tussen deze twee histogrammen?\n",
    "\n",
    "**Antwoord:**"
   ]
  },
  {
   "cell_type": "code",
   "execution_count": null,
   "id": "99532d7f",
   "metadata": {},
   "outputs": [],
   "source": [
    "# Vraag 3"
   ]
  },
  {
   "cell_type": "markdown",
   "id": "6dc11cbe",
   "metadata": {},
   "source": [
    "* Vraag 4: Bestudeer de MS_Population kolom van de df_population kolom. Wat stelt deze kolom voor? Bereken het totaal aantal inwoners dat minstens 18 jaar oud is in een gemeente met een Belgische nationaliteit en het totaal aantal met een niet-Belgische nationaliteit (ook minstens 18 jaar). Vergelijk deze aantallen met het aantal uitgegeven kiesbiljetten in 2018 (aantal stemgerechtigen). Wat kan je hieruit besluiten? Tip: Kiesbiljetten zijn per gemeente te bekijken en niet per partij en per gemeente. Kijk daarnaast eens welke gemeenten in elke dataset zitten.\n",
    "\n",
    "**Antwoord:**"
   ]
  },
  {
   "cell_type": "code",
   "execution_count": null,
   "id": "c8dbbc89",
   "metadata": {},
   "outputs": [],
   "source": [
    "# Vraag 4"
   ]
  },
  {
   "cell_type": "markdown",
   "id": "b5805767",
   "metadata": {},
   "source": [
    "* Vraag 5: Maak een scatterplot van het aantal inwoners in elke gemeente en de gemiddelde leeftijd in de gemeente. Is er hier een verband uit af te leiden? Bespreek je antwoord."
   ]
  },
  {
   "cell_type": "code",
   "execution_count": null,
   "id": "fa2cbf0f",
   "metadata": {},
   "outputs": [],
   "source": [
    "# Vraag 5"
   ]
  },
  {
   "attachments": {},
   "cell_type": "markdown",
   "id": "264edcf6",
   "metadata": {},
   "source": [
    "# Data merging\n",
    "\n",
    "Momenteel zitten de verkiezingsresultaten in 1 dataframe en de input-data om ze te voorspellen in een ander dataframe. Om verder vlot te kunnen werken gaan we een gecombineerd dataframe bouwen.\n",
    "\n",
    "Dit dataframe gaat er als volgt uitzien:\n",
    "* Index: identifier-code van de gemeente\n",
    "* Van de 5 partijen uit vraag 1, welke partij had het grootste percentage\n",
    "* Het behaalde percentage van de stemmen in een gemeente van de vijf partijen die in het grootste aantal gemeentes hebben meegedaan (zie vraag 1 hierboven).\n",
    "* De totale bevolking van een gemeente\n",
    "* Het percentage gehuwde mannen met de belgische nationaliteit (ten opzichte van totale bevolking) in een gemeente\n",
    "* Het percentage gehuwde vrouwen met de belgische nationaliteit (ten opzichte van totale bevolking) in een gemeente\n",
    "* Het percentage gehuwde mannen met niet de belgische nationaliteit (ten opzichte van totale bevolking) in een gemeente\n",
    "* Het percentage gehuwde vrouwen met niet de belgische nationaliteit (ten opzichte van totale bevolking) in een gemeente\n",
    "* Het percentage alleenstaande mannen met de belgische nationaliteit (ten opzichte van totale bevolking) in een gemeente\n",
    "* Het percentage alleenstaande vrouwen met de belgische nationaliteit (ten opzichte van totale bevolking) in een gemeente\n",
    "* Het percentage alleenstaande mannen met niet de belgische nationaliteit (ten opzichte van totale bevolking) in een gemeente\n",
    "* Het percentage alleenstaande vrouwen met niet de belgische nationaliteit (ten opzichte van totale bevolking) in een gemeente\n",
    "* Gemiddelde leeftijd in een gemeente"
   ]
  },
  {
   "cell_type": "code",
   "execution_count": null,
   "id": "22da9e86",
   "metadata": {},
   "outputs": [],
   "source": [
    "# samenvoegen van de dataframes"
   ]
  },
  {
   "attachments": {},
   "cell_type": "markdown",
   "id": "6f659552",
   "metadata": {},
   "source": [
    "## Data Exploration\n",
    "\n",
    "In het modelling gedeelte van deze opgave gaan we proberen om de verkiezingsresultaten te bepalen voor de verschillende partijen.\n",
    "Voor je hieraan begint, analyseer de beschikbare data om te bestuderen of het model kan leiden tot een goed resultaat.\n",
    "Bereken hiervoor per partij de correlatiematrix en de pairplot met alle features en het behaalde verkiezingsresultaat. \n",
    "\n",
    "Bespreek deze figuren aan de hand van de volgende vragen:\n",
    "* Welke feature gaat het best gebruikt kunnen worden om het resultaat te voorspellen?\n",
    "* Zijn er features waar het mogelijk is om een linear/niet-linear verband te detecteren ten opzichte van het te voorspellen resultaat? Verklaar wat je ziet?\n",
    "* Is er een verschil tussen deze waarden voor de verschillende partijen of zijn ze gelijkaardig. Wat zou hiervan de oorzaak zijn?"
   ]
  },
  {
   "attachments": {},
   "cell_type": "markdown",
   "id": "d685afd0",
   "metadata": {},
   "source": [
    "**Antwoord: ...**"
   ]
  },
  {
   "cell_type": "code",
   "execution_count": null,
   "id": "43188ab0",
   "metadata": {},
   "outputs": [],
   "source": [
    "# partij 1"
   ]
  },
  {
   "cell_type": "code",
   "execution_count": null,
   "id": "05f8d536",
   "metadata": {},
   "outputs": [],
   "source": [
    "# partij 2"
   ]
  },
  {
   "cell_type": "code",
   "execution_count": null,
   "id": "ea1bb797",
   "metadata": {},
   "outputs": [],
   "source": [
    "# partij 3"
   ]
  },
  {
   "cell_type": "code",
   "execution_count": null,
   "id": "08bcbb88",
   "metadata": {},
   "outputs": [],
   "source": [
    "# partij 4"
   ]
  },
  {
   "cell_type": "code",
   "execution_count": null,
   "id": "563a9ad9",
   "metadata": {},
   "outputs": [],
   "source": [
    "# partij 5"
   ]
  }
 ],
 "metadata": {
  "kernelspec": {
   "display_name": "Python 3",
   "language": "python",
   "name": "python3"
  },
  "language_info": {
   "codemirror_mode": {
    "name": "ipython",
    "version": 3
   },
   "file_extension": ".py",
   "mimetype": "text/x-python",
   "name": "python",
   "nbconvert_exporter": "python",
   "pygments_lexer": "ipython3",
   "version": "3.10.5"
  },
  "vscode": {
   "interpreter": {
    "hash": "d5e8e3a19af5ceb2434683dff87da6345c3b29f7eb0a8a138558c07d014a01cc"
   }
  }
 },
 "nbformat": 4,
 "nbformat_minor": 5
}
