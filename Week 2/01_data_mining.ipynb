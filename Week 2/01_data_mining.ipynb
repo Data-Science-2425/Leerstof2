{
 "cells": [
  {
   "cell_type": "markdown",
   "metadata": {},
   "source": [
    "# Data mining\n",
    "\n",
    "De notebook hieronder geeft een voorbeeld van twee technieken om data te downloaden van het internet. De eerste techniek is om met behulp van de opendatasets package een dataset te downloaden van kaggle.\n",
    "Bij de tweede techniek wordt er een excel-dataset gedownload van de statbel-site van de belgische overheid.\n",
    "\n",
    "## Dataset van Kaggle\n",
    "\n",
    "Een handige manier om data te downloaden van kaggle is door gebruik te maken van de opendatasets package. Deze kan geinstalleerd worden door middel van het volgende commando"
   ]
  },
  {
   "cell_type": "code",
   "execution_count": null,
   "metadata": {},
   "outputs": [],
   "source": [
    "!pip install opendatasets"
   ]
  },
  {
   "cell_type": "markdown",
   "metadata": {},
   "source": [
    "Na installatie van de package kunnen we als volgt een dataset downloaden.\n",
    "Om toegang te krijgen tot de dataset heb je echter een kaggle-username en api-key nodig. Om dit te verkijgen moet je de volgende stappen uitvoeren:\n",
    "* Ga naar https://www.kaggle.com/settings en login\n",
    "* Scroll naar beneden tot de sectie API\n",
    "* Klik op create new token\n",
    "* Dan krijg je een json met je username en api-key in\n",
    "* Ofwel vul je je username/api-key in wanneer er om gevraagd wordt ofwel plaats je de json in de folder van je notebook om het automatisch in te lezen"
   ]
  },
  {
   "cell_type": "code",
   "execution_count": null,
   "metadata": {},
   "outputs": [],
   "source": [
    "# Importing required libraries\n",
    "import opendatasets as od\n",
    "import pandas as pd\n",
    "\n",
    "# Downloading a dataset from Kaggle\n",
    "# Replace 'dataset-url' with the actual Kaggle dataset URL (e.g., 'zillow/zecon')\n",
    "kaggle_dataset_url = 'https://www.kaggle.com/datasets/uciml/iris'\n",
    "od.download(kaggle_dataset_url)\n",
    "\n",
    "# Load the downloaded dataset (replace 'dataset-folder/filename.csv' with the actual path)\n",
    "iris_df = pd.read_csv('iris/Iris.csv')\n",
    "\n",
    "# Display the first few rows of the dataset\n",
    "iris_df.head()"
   ]
  },
  {
   "cell_type": "markdown",
   "metadata": {},
   "source": [
    "## Data van de Belgische overheid\n",
    "\n",
    "Een tweede techniek die we gaan toelichten is om data te downloaden van de Belgische overheid. Dit houdt in dat we eerst gaan zoeken naar een goede dataset via de statbel-site die je [hier](https://statbel.fgov.be/en) kan vinden. Als test gaan we een [dataset](https://statbel.fgov.be/en/open-data/fiscal-statistics-income) gebruiken over de inkomsten van personen. \n",
    "\n",
    "**Let op:** om te werken met excel files heb je nog de volgende package nodig "
   ]
  },
  {
   "cell_type": "code",
   "execution_count": null,
   "metadata": {},
   "outputs": [],
   "source": [
    "!pip install openpyxl"
   ]
  },
  {
   "cell_type": "code",
   "execution_count": null,
   "metadata": {},
   "outputs": [],
   "source": [
    "# Downloading an Excel file from Statbel\n",
    "statbel_url = 'https://statbel.fgov.be/sites/default/files/files/opendata/arbeid/TF_PSNL_INC_TAX_MUNTY.xlsx'\n",
    "\n",
    "# Using pandas to directly download and read the Excel file\n",
    "statbel_df = pd.read_excel(statbel_url)\n",
    "\n",
    "# Display the first few rows of the dataset\n",
    "statbel_df.head()"
   ]
  },
  {
   "cell_type": "code",
   "execution_count": null,
   "metadata": {},
   "outputs": [],
   "source": []
  }
 ],
 "metadata": {
  "kernelspec": {
   "display_name": "Python 3",
   "language": "python",
   "name": "python3"
  },
  "language_info": {
   "codemirror_mode": {
    "name": "ipython",
    "version": 3
   },
   "file_extension": ".py",
   "mimetype": "text/x-python",
   "name": "python",
   "nbconvert_exporter": "python",
   "pygments_lexer": "ipython3",
   "version": "3.12.5"
  }
 },
 "nbformat": 4,
 "nbformat_minor": 2
}
